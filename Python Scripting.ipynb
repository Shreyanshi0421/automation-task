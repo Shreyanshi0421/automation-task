{
 "cells": [
  {
   "cell_type": "code",
   "execution_count": 2,
   "id": "816b493a-5679-4fbf-98c1-b6e2f450b2de",
   "metadata": {},
   "outputs": [
    {
     "name": "stdout",
     "output_type": "stream",
     "text": [
      "Requirement already satisfied: pandas in /opt/anaconda3/lib/python3.12/site-packages (2.2.2)\n",
      "Requirement already satisfied: numpy in /opt/anaconda3/lib/python3.12/site-packages (1.26.4)\n",
      "Requirement already satisfied: python-dateutil>=2.8.2 in /opt/anaconda3/lib/python3.12/site-packages (from pandas) (2.9.0.post0)\n",
      "Requirement already satisfied: pytz>=2020.1 in /opt/anaconda3/lib/python3.12/site-packages (from pandas) (2024.1)\n",
      "Requirement already satisfied: tzdata>=2022.7 in /opt/anaconda3/lib/python3.12/site-packages (from pandas) (2023.3)\n",
      "Requirement already satisfied: six>=1.5 in /opt/anaconda3/lib/python3.12/site-packages (from python-dateutil>=2.8.2->pandas) (1.16.0)\n"
     ]
    }
   ],
   "source": [
    "!pip install pandas numpy\n"
   ]
  },
  {
   "cell_type": "code",
   "execution_count": 4,
   "id": "ff46db4b-41af-4919-a10d-d2478da06930",
   "metadata": {},
   "outputs": [],
   "source": [
    "# Importing necessary libraries\n",
    "import pandas as pd\n",
    "import numpy as np"
   ]
  },
  {
   "cell_type": "code",
   "execution_count": 6,
   "id": "4d6aaae7-a26c-4ac0-9aa5-bf9c1335c498",
   "metadata": {},
   "outputs": [],
   "source": [
    "# Step 1: Load the dataset\n",
    "file_path = 'blogtext.csv'\n",
    "df = pd.read_csv(file_path)"
   ]
  },
  {
   "cell_type": "code",
   "execution_count": 12,
   "id": "52eb285b-7a0a-41bd-b752-fb51f009529b",
   "metadata": {},
   "outputs": [
    {
     "name": "stdout",
     "output_type": "stream",
     "text": [
      "Original Dataset:\n",
      "         id gender  age              topic      sign          date  \\\n",
      "0   2059027   male   15            Student       Leo   14,May,2004   \n",
      "1   2059027   male   15            Student       Leo   13,May,2004   \n",
      "2   2059027   male   15            Student       Leo   12,May,2004   \n",
      "3   2059027   male   15            Student       Leo   12,May,2004   \n",
      "4   3581210   male   33  InvestmentBanking  Aquarius  11,June,2004   \n",
      "5   3581210   male   33  InvestmentBanking  Aquarius  10,June,2004   \n",
      "6   3581210   male   33  InvestmentBanking  Aquarius  10,June,2004   \n",
      "7   3581210   male   33  InvestmentBanking  Aquarius  10,June,2004   \n",
      "8   3581210   male   33  InvestmentBanking  Aquarius  10,June,2004   \n",
      "9   3581210   male   33  InvestmentBanking  Aquarius  09,June,2004   \n",
      "10  3581210   male   33  InvestmentBanking  Aquarius  09,June,2004   \n",
      "11  3581210   male   33  InvestmentBanking  Aquarius  09,June,2004   \n",
      "12  3581210   male   33  InvestmentBanking  Aquarius  09,June,2004   \n",
      "13  3581210   male   33  InvestmentBanking  Aquarius  09,June,2004   \n",
      "14  3581210   male   33  InvestmentBanking  Aquarius  09,June,2004   \n",
      "15  3581210   male   33  InvestmentBanking  Aquarius  09,June,2004   \n",
      "16  3581210   male   33  InvestmentBanking  Aquarius  09,June,2004   \n",
      "17  3581210   male   33  InvestmentBanking  Aquarius  18,June,2004   \n",
      "18  3581210   male   33  InvestmentBanking  Aquarius  17,June,2004   \n",
      "19  3581210   male   33  InvestmentBanking  Aquarius  16,June,2004   \n",
      "20  3581210   male   33  InvestmentBanking  Aquarius  15,June,2004   \n",
      "21  3581210   male   33  InvestmentBanking  Aquarius  14,June,2004   \n",
      "22  3581210   male   33  InvestmentBanking  Aquarius  13,June,2004   \n",
      "23  3581210   male   33  InvestmentBanking  Aquarius  23,June,2004   \n",
      "24  3581210   male   33  InvestmentBanking  Aquarius  22,June,2004   \n",
      "25  3581210   male   33  InvestmentBanking  Aquarius  20,June,2004   \n",
      "26  3581210   male   33  InvestmentBanking  Aquarius  02,July,2004   \n",
      "27  3581210   male   33  InvestmentBanking  Aquarius  01,July,2004   \n",
      "28  3581210   male   33  InvestmentBanking  Aquarius  01,July,2004   \n",
      "29  3581210   male   33  InvestmentBanking  Aquarius  30,June,2004   \n",
      "30  3581210   male   33  InvestmentBanking  Aquarius  29,June,2004   \n",
      "31  3581210   male   33  InvestmentBanking  Aquarius  29,June,2004   \n",
      "32  3581210   male   33  InvestmentBanking  Aquarius  29,June,2004   \n",
      "33  3581210   male   33  InvestmentBanking  Aquarius  29,June,2004   \n",
      "34  3581210   male   33  InvestmentBanking  Aquarius  29,June,2004   \n",
      "35  3581210   male   33  InvestmentBanking  Aquarius  27,June,2004   \n",
      "36  3581210   male   33  InvestmentBanking  Aquarius  10,July,2004   \n",
      "37  3581210   male   33  InvestmentBanking  Aquarius  09,July,2004   \n",
      "38  3581210   male   33  InvestmentBanking  Aquarius  08,July,2004   \n",
      "39  3581210   male   33  InvestmentBanking  Aquarius  07,July,2004   \n",
      "40  3581210   male   33  InvestmentBanking  Aquarius  06,July,2004   \n",
      "41  3581210   male   33  InvestmentBanking  Aquarius  05,July,2004   \n",
      "42  3581210   male   33  InvestmentBanking  Aquarius  04,July,2004   \n",
      "43  3581210   male   33  InvestmentBanking  Aquarius  14,July,2004   \n",
      "44  3581210   male   33  InvestmentBanking  Aquarius  13,July,2004   \n",
      "45  3581210   male   33  InvestmentBanking  Aquarius  13,July,2004   \n",
      "46  3581210   male   33  InvestmentBanking  Aquarius  12,July,2004   \n",
      "47  3581210   male   33  InvestmentBanking  Aquarius  11,July,2004   \n",
      "48  3581210   male   33  InvestmentBanking  Aquarius  23,July,2004   \n",
      "49  3581210   male   33  InvestmentBanking  Aquarius  22,July,2004   \n",
      "\n",
      "                                                 text  \n",
      "0              Info has been found (+/- 100 pages,...  \n",
      "1              These are the team members:   Drewe...  \n",
      "2              In het kader van kernfusie op aarde...  \n",
      "3                    testing!!!  testing!!!            \n",
      "4                Thanks to Yahoo!'s Toolbar I can ...  \n",
      "5                I had an interesting conversation...  \n",
      "6                Somehow Coca-Cola has a way of su...  \n",
      "7                If anything, Korea is a country o...  \n",
      "8                Take a read of this news article ...  \n",
      "9                I surf the English news sites a l...  \n",
      "10               Ah, the Korean language...it look...  \n",
      "11               If you click on my profile you'll...  \n",
      "12               Last night was pretty fun...mostl...  \n",
      "13               There is so much that is differen...  \n",
      "14                urlLink    Here it is, the super...  \n",
      "15               One thing I love about Seoul (and...  \n",
      "16                urlLink    Wonderful oh-gyup-sal...  \n",
      "17               Here is the latest from the Korea...  \n",
      "18               Well, I stand corrected, again.  ...  \n",
      "19               So I've been in Vancouver a few d...  \n",
      "20               Whenever I see a pregnant Korean ...  \n",
      "21               My wife posed a strange question ...  \n",
      "22               As readers will know, my favorite...  \n",
      "23               When I was in Seoul these last fe...  \n",
      "24               You may have noticed a new featur...  \n",
      "25               Korea, especially Seoul, is prett...  \n",
      "26               It seems everything is not all th...  \n",
      "27               This may be a long blog...got a l...  \n",
      "28               I've always thought of Seoul's  u...  \n",
      "29               Big cities are famous for being e...  \n",
      "30               Koreans have a great sense of com...  \n",
      "31                urlLink    The business class ta...  \n",
      "32               I used to cook for myself all the...  \n",
      "33               I often wondered where the restau...  \n",
      "34               It feels like I didn't even leave...  \n",
      "35               It's been a busy last couple of w...  \n",
      "36               A night out in Korea can seem pre...  \n",
      "37               Some of you may remember my first...  \n",
      "38               Sometimes this place really makes...  \n",
      "39               A readers will know, shopping in ...  \n",
      "40               Recently I downloaded Go-Stop (a ...  \n",
      "41               One of my favorite places in 여의도 ...  \n",
      "42               Over the last few weeks I've been...  \n",
      "43               In any developing country (and I ...  \n",
      "44               Koreans have an interesting sayin...  \n",
      "45               This  urlLink Korea Times Busines...  \n",
      "46                urlLink     Paris Lovers...what ...  \n",
      "47               I must have been nuts.  Every 2-3...  \n",
      "48                Just so you know, this blog isn'...  \n",
      "49               Korea is, as you may have guessed...  \n"
     ]
    }
   ],
   "source": [
    " #Step 2: Inspect the dataset\n",
    "print(\"Original Dataset:\")\n",
    "print(df.head(50))"
   ]
  },
  {
   "cell_type": "code",
   "execution_count": 16,
   "id": "5dac0d36-7393-4af6-8ace-c86bba5352cd",
   "metadata": {},
   "outputs": [
    {
     "name": "stdout",
     "output_type": "stream",
     "text": [
      "['id', 'gender', 'age', 'topic', 'sign', 'date', 'text']\n"
     ]
    }
   ],
   "source": [
    "print(df.columns.tolist())"
   ]
  },
  {
   "cell_type": "code",
   "execution_count": 18,
   "id": "e81b3312-c899-4924-816d-c04fdf64b2e9",
   "metadata": {},
   "outputs": [
    {
     "name": "stdout",
     "output_type": "stream",
     "text": [
      "id        0\n",
      "gender    0\n",
      "age       0\n",
      "topic     0\n",
      "sign      0\n",
      "date      0\n",
      "text      0\n",
      "dtype: int64\n"
     ]
    }
   ],
   "source": [
    "print(df.isnull().sum())"
   ]
  },
  {
   "cell_type": "code",
   "execution_count": 22,
   "id": "dfc61417-1f7b-44c6-86ea-c860f3b5099c",
   "metadata": {},
   "outputs": [],
   "source": [
    "# Step 3: Handle Missing Values\n",
    "# Fill missing age values with the median age and salary with the mean salary\n",
    "df['age'] = df['age'].fillna(df['age'].median())\n",
    "df['gender'] = df['gender'].fillna(df['gender'].mode()[0])\n",
    "df['topic'] = df['topic'].fillna(df['topic'].mode()[0])\n",
    "df['sign'] = df['sign'].fillna(df['sign'].mode()[0])\n",
    "df['date'] = df['date'].fillna('2000-01-01')"
   ]
  },
  {
   "cell_type": "code",
   "execution_count": 24,
   "id": "41a694b4-c252-4835-875f-aa03d29f1f61",
   "metadata": {},
   "outputs": [],
   "source": [
    "# Step 4: Remove Duplicates\n",
    "df.drop_duplicates(inplace=True)"
   ]
  },
  {
   "cell_type": "code",
   "execution_count": 28,
   "id": "67629424-3203-4dd0-84a3-2725d44a060b",
   "metadata": {},
   "outputs": [],
   "source": [
    "# Step 5: Normalize Categorical Data (e.g., Department)\n",
    "# Convert department to lowercase for consistency\n",
    "# Convert 'topic' column to lowercase for consistency\n",
    "df['topic'] = df['topic'].str.lower()\n",
    "\n",
    "# Convert 'sign' column to lowercase for consistency\n",
    "df['sign'] = df['sign'].str.lower()\n"
   ]
  },
  {
   "cell_type": "code",
   "execution_count": 32,
   "id": "8af799ad-19f0-42f4-92fd-926206fc3f1d",
   "metadata": {},
   "outputs": [],
   "source": [
    "# Step 6: Format Date Columns\n",
    "# Convert 'join_date' to datetime format\n",
    "# Convert 'date' column to datetime format\n",
    "df['date'] = pd.to_datetime(df['date'], errors='coerce')\n",
    "\n"
   ]
  },
  {
   "cell_type": "code",
   "execution_count": 34,
   "id": "5c1f1927-1494-40a9-9fe6-28d812e98c99",
   "metadata": {},
   "outputs": [],
   "source": [
    "# Step 7: Create New Features (e.g., Experience in years)\n",
    "# Assuming 'date' shows the date when they joined the company\n",
    "current_year = pd.to_datetime('today').year\n",
    "df['experience'] = current_year - df['date'].dt.year\n"
   ]
  },
  {
   "cell_type": "code",
   "execution_count": 36,
   "id": "06f6aa2d-afec-498c-a0d1-33c8c544a250",
   "metadata": {},
   "outputs": [],
   "source": [
    "# Removing age outliers using the Interquartile Range (IQR) method\n",
    "Q1 = df['age'].quantile(0.25)\n",
    "Q3 = df['age'].quantile(0.75)\n",
    "IQR = Q3 - Q1\n",
    "\n",
    "# Calculate the lower and upper bounds for outliers\n",
    "lower_bound = Q1 - 1.5 * IQR\n",
    "upper_bound = Q3 + 1.5 * IQR\n",
    "\n",
    "# Remove outliers from the age column\n",
    "df = df[(df['age'] >= lower_bound) & (df['age'] <= upper_bound)]\n"
   ]
  },
  {
   "cell_type": "code",
   "execution_count": 38,
   "id": "6d188992-cfd2-412d-a803-6e138c434fe3",
   "metadata": {},
   "outputs": [],
   "source": [
    "# Step 9: Save the cleaned dataset\n",
    "cleaned_file_path = 'cleaned_sample_data.csv'\n",
    "df.to_csv(cleaned_file_path, index=False)\n"
   ]
  },
  {
   "cell_type": "code",
   "execution_count": 42,
   "id": "44014c38-1d24-4ba0-b0fb-4157fc603448",
   "metadata": {},
   "outputs": [
    {
     "name": "stdout",
     "output_type": "stream",
     "text": [
      "\n",
      "Cleaned Dataset:\n",
      "         id gender  age              topic      sign       date  \\\n",
      "0   2059027   male   15            student       leo 2004-05-14   \n",
      "1   2059027   male   15            student       leo 2004-05-13   \n",
      "2   2059027   male   15            student       leo 2004-05-12   \n",
      "3   2059027   male   15            student       leo 2004-05-12   \n",
      "4   3581210   male   33  investmentbanking  aquarius 2004-06-11   \n",
      "5   3581210   male   33  investmentbanking  aquarius 2004-06-10   \n",
      "6   3581210   male   33  investmentbanking  aquarius 2004-06-10   \n",
      "7   3581210   male   33  investmentbanking  aquarius 2004-06-10   \n",
      "8   3581210   male   33  investmentbanking  aquarius 2004-06-10   \n",
      "9   3581210   male   33  investmentbanking  aquarius 2004-06-09   \n",
      "10  3581210   male   33  investmentbanking  aquarius 2004-06-09   \n",
      "11  3581210   male   33  investmentbanking  aquarius 2004-06-09   \n",
      "12  3581210   male   33  investmentbanking  aquarius 2004-06-09   \n",
      "13  3581210   male   33  investmentbanking  aquarius 2004-06-09   \n",
      "14  3581210   male   33  investmentbanking  aquarius 2004-06-09   \n",
      "15  3581210   male   33  investmentbanking  aquarius 2004-06-09   \n",
      "16  3581210   male   33  investmentbanking  aquarius 2004-06-09   \n",
      "17  3581210   male   33  investmentbanking  aquarius 2004-06-18   \n",
      "18  3581210   male   33  investmentbanking  aquarius 2004-06-17   \n",
      "19  3581210   male   33  investmentbanking  aquarius 2004-06-16   \n",
      "20  3581210   male   33  investmentbanking  aquarius 2004-06-15   \n",
      "21  3581210   male   33  investmentbanking  aquarius 2004-06-14   \n",
      "22  3581210   male   33  investmentbanking  aquarius 2004-06-13   \n",
      "23  3581210   male   33  investmentbanking  aquarius 2004-06-23   \n",
      "24  3581210   male   33  investmentbanking  aquarius 2004-06-22   \n",
      "25  3581210   male   33  investmentbanking  aquarius 2004-06-20   \n",
      "26  3581210   male   33  investmentbanking  aquarius 2004-07-02   \n",
      "27  3581210   male   33  investmentbanking  aquarius 2004-07-01   \n",
      "28  3581210   male   33  investmentbanking  aquarius 2004-07-01   \n",
      "29  3581210   male   33  investmentbanking  aquarius 2004-06-30   \n",
      "30  3581210   male   33  investmentbanking  aquarius 2004-06-29   \n",
      "31  3581210   male   33  investmentbanking  aquarius 2004-06-29   \n",
      "32  3581210   male   33  investmentbanking  aquarius 2004-06-29   \n",
      "33  3581210   male   33  investmentbanking  aquarius 2004-06-29   \n",
      "34  3581210   male   33  investmentbanking  aquarius 2004-06-29   \n",
      "35  3581210   male   33  investmentbanking  aquarius 2004-06-27   \n",
      "36  3581210   male   33  investmentbanking  aquarius 2004-07-10   \n",
      "37  3581210   male   33  investmentbanking  aquarius 2004-07-09   \n",
      "38  3581210   male   33  investmentbanking  aquarius 2004-07-08   \n",
      "39  3581210   male   33  investmentbanking  aquarius 2004-07-07   \n",
      "40  3581210   male   33  investmentbanking  aquarius 2004-07-06   \n",
      "41  3581210   male   33  investmentbanking  aquarius 2004-07-05   \n",
      "42  3581210   male   33  investmentbanking  aquarius 2004-07-04   \n",
      "43  3581210   male   33  investmentbanking  aquarius 2004-07-14   \n",
      "44  3581210   male   33  investmentbanking  aquarius 2004-07-13   \n",
      "45  3581210   male   33  investmentbanking  aquarius 2004-07-13   \n",
      "46  3581210   male   33  investmentbanking  aquarius 2004-07-12   \n",
      "47  3581210   male   33  investmentbanking  aquarius 2004-07-11   \n",
      "48  3581210   male   33  investmentbanking  aquarius 2004-07-23   \n",
      "49  3581210   male   33  investmentbanking  aquarius 2004-07-22   \n",
      "\n",
      "                                                 text  experience  \n",
      "0              Info has been found (+/- 100 pages,...        20.0  \n",
      "1              These are the team members:   Drewe...        20.0  \n",
      "2              In het kader van kernfusie op aarde...        20.0  \n",
      "3                    testing!!!  testing!!!                  20.0  \n",
      "4                Thanks to Yahoo!'s Toolbar I can ...        20.0  \n",
      "5                I had an interesting conversation...        20.0  \n",
      "6                Somehow Coca-Cola has a way of su...        20.0  \n",
      "7                If anything, Korea is a country o...        20.0  \n",
      "8                Take a read of this news article ...        20.0  \n",
      "9                I surf the English news sites a l...        20.0  \n",
      "10               Ah, the Korean language...it look...        20.0  \n",
      "11               If you click on my profile you'll...        20.0  \n",
      "12               Last night was pretty fun...mostl...        20.0  \n",
      "13               There is so much that is differen...        20.0  \n",
      "14                urlLink    Here it is, the super...        20.0  \n",
      "15               One thing I love about Seoul (and...        20.0  \n",
      "16                urlLink    Wonderful oh-gyup-sal...        20.0  \n",
      "17               Here is the latest from the Korea...        20.0  \n",
      "18               Well, I stand corrected, again.  ...        20.0  \n",
      "19               So I've been in Vancouver a few d...        20.0  \n",
      "20               Whenever I see a pregnant Korean ...        20.0  \n",
      "21               My wife posed a strange question ...        20.0  \n",
      "22               As readers will know, my favorite...        20.0  \n",
      "23               When I was in Seoul these last fe...        20.0  \n",
      "24               You may have noticed a new featur...        20.0  \n",
      "25               Korea, especially Seoul, is prett...        20.0  \n",
      "26               It seems everything is not all th...        20.0  \n",
      "27               This may be a long blog...got a l...        20.0  \n",
      "28               I've always thought of Seoul's  u...        20.0  \n",
      "29               Big cities are famous for being e...        20.0  \n",
      "30               Koreans have a great sense of com...        20.0  \n",
      "31                urlLink    The business class ta...        20.0  \n",
      "32               I used to cook for myself all the...        20.0  \n",
      "33               I often wondered where the restau...        20.0  \n",
      "34               It feels like I didn't even leave...        20.0  \n",
      "35               It's been a busy last couple of w...        20.0  \n",
      "36               A night out in Korea can seem pre...        20.0  \n",
      "37               Some of you may remember my first...        20.0  \n",
      "38               Sometimes this place really makes...        20.0  \n",
      "39               A readers will know, shopping in ...        20.0  \n",
      "40               Recently I downloaded Go-Stop (a ...        20.0  \n",
      "41               One of my favorite places in 여의도 ...        20.0  \n",
      "42               Over the last few weeks I've been...        20.0  \n",
      "43               In any developing country (and I ...        20.0  \n",
      "44               Koreans have an interesting sayin...        20.0  \n",
      "45               This  urlLink Korea Times Busines...        20.0  \n",
      "46                urlLink     Paris Lovers...what ...        20.0  \n",
      "47               I must have been nuts.  Every 2-3...        20.0  \n",
      "48                Just so you know, this blog isn'...        20.0  \n",
      "49               Korea is, as you may have guessed...        20.0  \n"
     ]
    }
   ],
   "source": [
    "# Step 10: Review the cleaned dataset\n",
    "print(\"\\nCleaned Dataset:\")\n",
    "print(df.head(50))"
   ]
  },
  {
   "cell_type": "code",
   "execution_count": null,
   "id": "7aa90924-2ecb-40f8-a175-c0dc12c47c92",
   "metadata": {},
   "outputs": [],
   "source": []
  }
 ],
 "metadata": {
  "kernelspec": {
   "display_name": "Python 3 (ipykernel)",
   "language": "python",
   "name": "python3"
  },
  "language_info": {
   "codemirror_mode": {
    "name": "ipython",
    "version": 3
   },
   "file_extension": ".py",
   "mimetype": "text/x-python",
   "name": "python",
   "nbconvert_exporter": "python",
   "pygments_lexer": "ipython3",
   "version": "3.12.4"
  }
 },
 "nbformat": 4,
 "nbformat_minor": 5
}
